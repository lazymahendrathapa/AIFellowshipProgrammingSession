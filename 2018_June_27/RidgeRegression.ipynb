{
 "cells": [
  {
   "cell_type": "code",
   "execution_count": 1,
   "metadata": {},
   "outputs": [],
   "source": [
    "import numpy as np"
   ]
  },
  {
   "cell_type": "code",
   "execution_count": 2,
   "metadata": {},
   "outputs": [],
   "source": [
    "n = 12"
   ]
  },
  {
   "cell_type": "code",
   "execution_count": 3,
   "metadata": {},
   "outputs": [
    {
     "data": {
      "text/plain": [
       "array([[0.37454012, 0.95071431, 1.        ],\n",
       "       [0.73199394, 0.59865848, 1.        ],\n",
       "       [0.15601864, 0.15599452, 1.        ],\n",
       "       [0.05808361, 0.86617615, 1.        ],\n",
       "       [0.60111501, 0.70807258, 1.        ],\n",
       "       [0.02058449, 0.96990985, 1.        ],\n",
       "       [0.83244264, 0.21233911, 1.        ],\n",
       "       [0.18182497, 0.18340451, 1.        ],\n",
       "       [0.30424224, 0.52475643, 1.        ],\n",
       "       [0.43194502, 0.29122914, 1.        ],\n",
       "       [0.61185289, 0.13949386, 1.        ],\n",
       "       [0.29214465, 0.36636184, 1.        ]])"
      ]
     },
     "execution_count": 3,
     "metadata": {},
     "output_type": "execute_result"
    }
   ],
   "source": [
    "np.random.seed(42)\n",
    "x = np.c_[np.random.rand(n, 2), np.ones(n)]\n",
    "x"
   ]
  },
  {
   "cell_type": "code",
   "execution_count": 4,
   "metadata": {},
   "outputs": [
    {
     "data": {
      "text/plain": [
       "array([[ 1.],\n",
       "       [-2.],\n",
       "       [ 3.]])"
      ]
     },
     "execution_count": 4,
     "metadata": {},
     "output_type": "execute_result"
    }
   ],
   "source": [
    "actual_w = np.array([[1.], [-2.], [3.]])\n",
    "actual_w"
   ]
  },
  {
   "cell_type": "code",
   "execution_count": 5,
   "metadata": {},
   "outputs": [
    {
     "data": {
      "text/plain": [
       "array([[1.47311151],\n",
       "       [2.53467697],\n",
       "       [2.8440296 ],\n",
       "       [1.32573132],\n",
       "       [2.18496986],\n",
       "       [1.08076479],\n",
       "       [3.40776442],\n",
       "       [2.81501595],\n",
       "       [2.25472938],\n",
       "       [2.84948674],\n",
       "       [3.33286517],\n",
       "       [2.55942096]])"
      ]
     },
     "execution_count": 5,
     "metadata": {},
     "output_type": "execute_result"
    }
   ],
   "source": [
    "y = np.dot(x, actual_w)\n",
    "y"
   ]
  },
  {
   "cell_type": "markdown",
   "metadata": {},
   "source": [
    "## Ridge Regression"
   ]
  },
  {
   "cell_type": "code",
   "execution_count": 6,
   "metadata": {},
   "outputs": [],
   "source": [
    "def find_w(x, y, l, variance):\n",
    "    a = np.dot(x.T, x) + l * variance * np.identity(x.shape[1])\n",
    "    a_inv = np.linalg.inv(a)\n",
    "    b = np.dot(x.T, y)\n",
    "    return np.dot(a_inv, b)"
   ]
  },
  {
   "cell_type": "code",
   "execution_count": 7,
   "metadata": {},
   "outputs": [
    {
     "data": {
      "text/plain": [
       "array([[0.85506666],\n",
       "       [0.04468779],\n",
       "       [1.63102329]])"
      ]
     },
     "execution_count": 7,
     "metadata": {},
     "output_type": "execute_result"
    }
   ],
   "source": [
    "w = find_w(x, y, 3.0, 1.0 )\n",
    "w"
   ]
  },
  {
   "cell_type": "code",
   "execution_count": 8,
   "metadata": {},
   "outputs": [
    {
     "name": "stdout",
     "output_type": "stream",
     "text": [
      "[[14.]]\n",
      "[[3.39337296]]\n"
     ]
    }
   ],
   "source": [
    "print(np.dot(actual_w.T, actual_w))\n",
    "print(np.dot(w.T, w))"
   ]
  },
  {
   "cell_type": "code",
   "execution_count": null,
   "metadata": {},
   "outputs": [],
   "source": []
  },
  {
   "cell_type": "code",
   "execution_count": null,
   "metadata": {},
   "outputs": [],
   "source": []
  }
 ],
 "metadata": {
  "kernelspec": {
   "display_name": "Python 3",
   "language": "python",
   "name": "python3"
  },
  "language_info": {
   "codemirror_mode": {
    "name": "ipython",
    "version": 3
   },
   "file_extension": ".py",
   "mimetype": "text/x-python",
   "name": "python",
   "nbconvert_exporter": "python",
   "pygments_lexer": "ipython3",
   "version": "3.6.5"
  }
 },
 "nbformat": 4,
 "nbformat_minor": 2
}
