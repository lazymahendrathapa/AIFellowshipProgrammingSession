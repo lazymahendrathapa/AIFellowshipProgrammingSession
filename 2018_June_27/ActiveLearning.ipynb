{
 "cells": [
  {
   "cell_type": "code",
   "execution_count": 16,
   "metadata": {},
   "outputs": [
    {
     "data": {
      "text/plain": [
       "array([[0.37454012, 0.95071431],\n",
       "       [0.73199394, 0.59865848],\n",
       "       [0.15601864, 0.15599452],\n",
       "       [0.05808361, 0.86617615],\n",
       "       [0.60111501, 0.70807258],\n",
       "       [0.02058449, 0.96990985],\n",
       "       [0.83244264, 0.21233911],\n",
       "       [0.18182497, 0.18340451],\n",
       "       [0.30424224, 0.52475643],\n",
       "       [0.43194502, 0.29122914],\n",
       "       [0.61185289, 0.13949386],\n",
       "       [0.29214465, 0.36636184]])"
      ]
     },
     "execution_count": 16,
     "metadata": {},
     "output_type": "execute_result"
    }
   ],
   "source": [
    "import numpy as np\n",
    "n = 12\n",
    "np.random.seed(42)\n",
    "x_train =np.random.rand(n, 2)\n",
    "x_train"
   ]
  },
  {
   "cell_type": "code",
   "execution_count": 17,
   "metadata": {},
   "outputs": [
    {
     "data": {
      "text/plain": [
       "array([[0.45606998, 0.78517596],\n",
       "       [0.19967378, 0.51423444],\n",
       "       [0.59241457, 0.04645041],\n",
       "       [0.60754485, 0.17052412],\n",
       "       [0.06505159, 0.94888554],\n",
       "       [0.96563203, 0.80839735],\n",
       "       [0.30461377, 0.09767211],\n",
       "       [0.68423303, 0.44015249],\n",
       "       [0.12203823, 0.49517691],\n",
       "       [0.03438852, 0.9093204 ],\n",
       "       [0.25877998, 0.66252228],\n",
       "       [0.31171108, 0.52006802]])"
      ]
     },
     "execution_count": 17,
     "metadata": {},
     "output_type": "execute_result"
    }
   ],
   "source": [
    "x_test = np.random.rand(n, 2)\n",
    "x_test"
   ]
  },
  {
   "cell_type": "code",
   "execution_count": 18,
   "metadata": {},
   "outputs": [
    {
     "data": {
      "text/plain": [
       "array([[ 1.],\n",
       "       [-2.]])"
      ]
     },
     "execution_count": 18,
     "metadata": {},
     "output_type": "execute_result"
    }
   ],
   "source": [
    "actual_w = np.array([[1.], [-2.]])\n",
    "actual_w"
   ]
  },
  {
   "cell_type": "code",
   "execution_count": 19,
   "metadata": {},
   "outputs": [
    {
     "data": {
      "text/plain": [
       "array([[-1.52688849],\n",
       "       [-0.46532303],\n",
       "       [-0.1559704 ],\n",
       "       [-1.67426868],\n",
       "       [-0.81503014],\n",
       "       [-1.91923521],\n",
       "       [ 0.40776442],\n",
       "       [-0.18498405],\n",
       "       [-0.74527062],\n",
       "       [-0.15051326],\n",
       "       [ 0.33286517],\n",
       "       [-0.44057904]])"
      ]
     },
     "execution_count": 19,
     "metadata": {},
     "output_type": "execute_result"
    }
   ],
   "source": [
    "y_train = np.dot(x_train, actual_w)\n",
    "y_train"
   ]
  },
  {
   "cell_type": "code",
   "execution_count": 20,
   "metadata": {},
   "outputs": [],
   "source": [
    "def calcuate_posterior_covariance(lambda_, variance, X_train, dimension):\n",
    "    covariance = np.linalg.inv(lambda_ * np.eye(dimension) + (1 / variance) * (X_train.T).dot(X_train))\n",
    "    return covariance"
   ]
  },
  {
   "cell_type": "code",
   "execution_count": 21,
   "metadata": {},
   "outputs": [],
   "source": [
    "lambda_input = 1\n",
    "variance_input = 1\n",
    "dimension = x_train.shape[1]\n"
   ]
  },
  {
   "cell_type": "code",
   "execution_count": 22,
   "metadata": {},
   "outputs": [
    {
     "name": "stdout",
     "output_type": "stream",
     "text": [
      "Covariance Matrix:\n",
      " [[ 0.36499356 -0.14411671]\n",
      " [-0.14411671  0.25408343]]\n",
      "Indices: [0, 1, 2, 3, 4, 5, 6, 7, 8, 9, 10, 11]\n"
     ]
    }
   ],
   "source": [
    "covariance = calcuate_posterior_covariance(lambda_input, variance_input, x_train, dimension)\n",
    "active = []\n",
    "\n",
    "print(\"Covariance Matrix:\\n {}\".format(covariance))\n",
    "\n",
    "indices = list(range(x_test.shape[0]))\n",
    "print(\"Indices: {}\".format(indices))"
   ]
  },
  {
   "cell_type": "code",
   "execution_count": 23,
   "metadata": {},
   "outputs": [],
   "source": [
    "for i in range(0,5):\n",
    "    variance_matrix = x_test.dot(covariance).dot(x_test.T)\n",
    "    result = np.argmax(variance_matrix.diagonal())\n",
    "    actual_row = indices[result]\n",
    "    active.append(actual_row)\n",
    "    np.concatenate((x_train, x_test[result].reshape(1, x_test[result].shape[0])))\n",
    "    x_test = np.delete(x_test, (result), axis=0)\n",
    "    indices.pop(result)\n",
    "    covariance = calcuate_posterior_covariance(lambda_input, variance_input, x_train, dimension)\n",
    "  "
   ]
  },
  {
   "cell_type": "code",
   "execution_count": 24,
   "metadata": {},
   "outputs": [
    {
     "name": "stdout",
     "output_type": "stream",
     "text": [
      "[5, 4, 9, 7, 0]\n"
     ]
    }
   ],
   "source": [
    "print(active)"
   ]
  },
  {
   "cell_type": "code",
   "execution_count": null,
   "metadata": {},
   "outputs": [],
   "source": []
  }
 ],
 "metadata": {
  "kernelspec": {
   "display_name": "Python 3",
   "language": "python",
   "name": "python3"
  },
  "language_info": {
   "codemirror_mode": {
    "name": "ipython",
    "version": 3
   },
   "file_extension": ".py",
   "mimetype": "text/x-python",
   "name": "python",
   "nbconvert_exporter": "python",
   "pygments_lexer": "ipython3",
   "version": "3.6.5"
  }
 },
 "nbformat": 4,
 "nbformat_minor": 2
}
